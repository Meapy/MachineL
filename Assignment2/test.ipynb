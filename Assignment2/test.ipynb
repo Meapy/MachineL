{
 "cells": [
  {
   "cell_type": "code",
   "execution_count": null,
   "metadata": {
    "collapsed": true
   },
   "outputs": [],
   "source": []
  },
  {
   "cell_type": "code",
   "execution_count": null,
   "outputs": [],
   "source": [
    "# Nikolay Malyshev : C18333703\n",
    "# Machine Learning for Predictive Data Analytics\n",
    "# Build A Classifier - Assessment 2\n",
    "\n",
    "import pandas as pd\n",
    "from csv import writer\n",
    "from collections import Counter\n",
    "from sklearn.model_selection import train_test_split\n",
    "from sklearn.preprocessing import StandardScaler\n",
    "from sklearn.neighbors import KNeighborsClassifier\n",
    "from sklearn.metrics import classification_report, confusion_matrix, accuracy_score\n",
    "from sklearn.multioutput import MultiOutputClassifier\n",
    "import numpy as np\n",
    "\n",
    "\n",
    "# Sets decimals to 4 places to remove +e numbers\n",
    "pd.set_option('display.float_format', lambda x: '%.4f' %x)"
   ],
   "metadata": {
    "collapsed": false,
    "pycharm": {
     "name": "#%%\n"
    }
   }
  },
  {
   "cell_type": "code",
   "execution_count": null,
   "outputs": [],
   "source": [
    "# Read in both datasets\n",
    "dataTrainings = pd.read_csv('data/trainingset.txt', header = None)\n",
    "dataTesting = pd.read_csv('data/queries.txt', header = None)\n"
   ],
   "metadata": {
    "collapsed": false,
    "pycharm": {
     "name": "#%%\n"
    }
   }
  },
  {
   "cell_type": "code",
   "execution_count": null,
   "outputs": [],
   "source": [
    "dataTrainings.columns = ['id', 'age', 'job', 'marital', 'education', 'default', 'balance', 'housing', 'loan', 'contact', 'day', 'month', 'duration', 'campaign', 'pdays', 'previous', 'poutcome', 'output']\n",
    "dataTesting.columns = ['id', 'age', 'job', 'marital', 'education', 'default', 'balance', 'housing', 'loan', 'contact', 'day', 'month', 'duration', 'campaign', 'pdays', 'previous', 'poutcome', 'output']"
   ],
   "metadata": {
    "collapsed": false,
    "pycharm": {
     "name": "#%%\n"
    }
   }
  },
  {
   "cell_type": "code",
   "execution_count": null,
   "outputs": [],
   "source": [
    "dataTrainings.dtypes"
   ],
   "metadata": {
    "collapsed": false,
    "pycharm": {
     "name": "#%%\n"
    }
   }
  },
  {
   "cell_type": "code",
   "execution_count": null,
   "outputs": [],
   "source": [
    "# Setting Data Types using datadescription.txt, for dataTrainings & dataTesting\n",
    "dataTrainings = dataTrainings.astype({\n",
    "    \"age\" : 'int64',\n",
    "    \"job\" : 'category',\n",
    "    \"marital\" : 'category',\n",
    "    \"education\" : 'category',\n",
    "    \"balance\" : 'int64',\n",
    "    \"contact\" : 'category',\n",
    "    \"day\" : 'int64',\n",
    "    \"month\" : 'category',\n",
    "    \"duration\" : 'int64',\n",
    "    \"campaign\" : 'int64',\n",
    "    \"pdays\" : 'int64',\n",
    "    \"previous\" : 'int64',\n",
    "    \"poutcome\" : 'category'\n",
    "})\n",
    "dataTrainings.default = dataTrainings.default.map({'yes' : 1, 'no' : 0})\n",
    "dataTrainings.housing = dataTrainings.housing.map({'yes' : 1, 'no' : 0})\n",
    "dataTrainings.loan = dataTrainings.loan.map({'yes' : 1, 'no' : 0})\n",
    "dataTrainings.output = dataTrainings.output.map({'TypeA' : 1, 'TypeB' : 0})"
   ],
   "metadata": {
    "collapsed": false,
    "pycharm": {
     "name": "#%%\n"
    }
   }
  },
  {
   "cell_type": "code",
   "execution_count": null,
   "outputs": [],
   "source": [
    "dataTesting = dataTesting.astype({\n",
    "    \"age\" : 'int64',\n",
    "    \"job\" : 'category',\n",
    "    \"marital\" : 'category',\n",
    "    \"education\" : 'category',\n",
    "    \"balance\" : 'int64',\n",
    "    \"contact\" : 'category',\n",
    "    \"day\" : 'int64',\n",
    "    \"month\" : 'category',\n",
    "    \"duration\" : 'int64',\n",
    "    \"campaign\" : 'int64',\n",
    "    \"pdays\" : 'int64',\n",
    "    \"previous\" : 'int64',\n",
    "    \"poutcome\" : 'category'\n",
    "})\n",
    "dataTesting.default = dataTesting.default.map({'yes' : 1, 'no' : 0})\n",
    "dataTesting.housing = dataTesting.housing.map({'yes' : 1, 'no' : 0})\n",
    "dataTesting.loan = dataTesting.loan.map({'yes' : 1, 'no' : 0})\n",
    "dataTesting.output = dataTesting.output.map({'TypeA' : 1, 'TypeB' : 0})"
   ],
   "metadata": {
    "collapsed": false,
    "pycharm": {
     "name": "#%%\n"
    }
   }
  },
  {
   "cell_type": "code",
   "execution_count": null,
   "outputs": [],
   "source": [
    "# Create binary values from cat values using get_dummies\n",
    "# Also Drop id column to only have dtypes of type str\n",
    "dumdataTrainings = pd.get_dummies(dataTrainings, columns=['job', 'marital','education','contact', 'month', 'poutcome', 'default', 'housing', 'loan'], drop_first=True)\n",
    "dumdataTesting = pd.get_dummies(dataTesting, columns=['job', 'marital','education','contact', 'month', 'poutcome', 'default', 'housing', 'loan'], drop_first=True)\n",
    "dumdataTrainings = dumdataTrainings.drop(['id'], axis = 1)\n",
    "dumdataTesting = dumdataTesting.drop(['id'], axis = 1)"
   ],
   "metadata": {
    "collapsed": false,
    "pycharm": {
     "name": "#%%\n"
    }
   }
  },
  {
   "cell_type": "code",
   "execution_count": null,
   "outputs": [],
   "source": [
    "dumdataTrainings[:]"
   ],
   "metadata": {
    "collapsed": false,
    "pycharm": {
     "name": "#%%\n"
    }
   }
  },
  {
   "cell_type": "code",
   "execution_count": null,
   "outputs": [],
   "source": [
    "# Split the Dataset into Train and Test sets\n",
    "X_train, X_test, y_train, y_test = train_test_split(dumdataTrainings, dumdataTrainings['output'], test_size=0.20, random_state = 2)"
   ],
   "metadata": {
    "collapsed": false,
    "pycharm": {
     "name": "#%%\n"
    }
   }
  },
  {
   "cell_type": "code",
   "execution_count": null,
   "outputs": [],
   "source": [
    "# Feature Scaling\n",
    "sScalar = StandardScaler()\n",
    "X_train = sScalar.fit_transform(X_train)\n",
    "X_test = sScalar.transform(X_test)"
   ],
   "metadata": {
    "collapsed": false,
    "pycharm": {
     "name": "#%%\n"
    }
   }
  },
  {
   "cell_type": "code",
   "execution_count": null,
   "outputs": [],
   "source": [
    "# KNN\n",
    "# p = 2 uses euclidean distance for the default metric\n",
    "knn = KNeighborsClassifier(n_neighbors = 5)\n",
    "# knnM = MultiOutputClassifier(knn, n_jobs=-1)\n",
    "knn.fit(X_train, y_train)"
   ],
   "metadata": {
    "collapsed": false,
    "pycharm": {
     "name": "#%%\n"
    }
   }
  },
  {
   "cell_type": "code",
   "execution_count": null,
   "outputs": [],
   "source": [
    "# Predictions on test data\n",
    "y_pred = knn.predict(X_test)"
   ],
   "metadata": {
    "collapsed": false,
    "pycharm": {
     "name": "#%%\n"
    }
   }
  },
  {
   "cell_type": "code",
   "execution_count": null,
   "outputs": [],
   "source": [
    "# Evaluation\n",
    "print(confusion_matrix(y_test, y_pred))"
   ],
   "metadata": {
    "collapsed": false,
    "pycharm": {
     "name": "#%%\n"
    }
   }
  },
  {
   "cell_type": "code",
   "execution_count": null,
   "outputs": [],
   "source": [
    "print(classification_report(y_test, y_pred))"
   ],
   "metadata": {
    "collapsed": false,
    "pycharm": {
     "name": "#%%\n"
    }
   }
  },
  {
   "cell_type": "code",
   "execution_count": null,
   "outputs": [],
   "source": [
    "# y_test_non_category = [ np.argmax(t) for t in y_test ]\n",
    "# y_predict_non_category = [ np.argmax(t) for t in y_pred ]\n",
    "#\n",
    "# conf_mat = confusion_matrix(y_test_non_category, y_predict_non_category)\n",
    "print(y_pred)"
   ],
   "metadata": {
    "collapsed": false,
    "pycharm": {
     "name": "#%%\n"
    }
   }
  },
  {
   "cell_type": "code",
   "execution_count": null,
   "outputs": [],
   "source": [
    "print(\"s\", accuracy_score(y_test, y_pred))"
   ],
   "metadata": {
    "collapsed": false,
    "pycharm": {
     "name": "#%%\n"
    }
   }
  },
  {
   "cell_type": "code",
   "execution_count": null,
   "outputs": [],
   "source": [
    "dumdataTrainings['output'] = knn.predict(dumdataTrainings)\n",
    "dumdataTrainings['output']"
   ],
   "metadata": {
    "collapsed": false,
    "pycharm": {
     "name": "#%%\n"
    }
   }
  },
  {
   "cell_type": "code",
   "execution_count": null,
   "outputs": [],
   "source": [
    "dumdataTrainings['output'].describe"
   ],
   "metadata": {
    "collapsed": false,
    "pycharm": {
     "name": "#%%\n"
    }
   }
  }
 ],
 "metadata": {
  "kernelspec": {
   "display_name": "Python 3",
   "language": "python",
   "name": "python3"
  },
  "language_info": {
   "codemirror_mode": {
    "name": "ipython",
    "version": 2
   },
   "file_extension": ".py",
   "mimetype": "text/x-python",
   "name": "python",
   "nbconvert_exporter": "python",
   "pygments_lexer": "ipython2",
   "version": "2.7.6"
  }
 },
 "nbformat": 4,
 "nbformat_minor": 0
}