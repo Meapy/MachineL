{
 "cells": [
  {
   "cell_type": "code",
   "execution_count": 47,
   "metadata": {},
   "outputs": [],
   "source": [
    "import pandas as pd\n",
    "import numpy as np \n",
    "import matplotlib.pyplot as plt\n",
    "from sklearn.metrics import r2_score\n",
    "from sklearn import tree \n",
    "from sklearn.model_selection import train_test_split\n",
    "from sklearn.metrics import accuracy_score\n",
    "from sklearn.naive_bayes import GaussianNB\n",
    "from sklearn import datasets, linear_model, metrics\n",
    "from sklearn.neighbors import KNeighborsClassifier\n",
    "\n",
    "pd.set_option('display.float_format',lambda x: '%.4f' %x)\n",
    "pd.options.mode.chained_assignment = None\n",
    "\n",
    "train_data = pd.read_csv('data/trainingset.txt',header=None)\n",
    "predict_data = pd.read_csv('data/queries.txt',header=None)\n",
    "#set column names for train_data\n",
    "train_data.columns = ['id','age','job','marital','education','default','balance','housing','loan','contact','day','month','duration','campaign','pdays','previous','poutcome','output']\n",
    "predict_data.columns = ['id','age','job','marital','education','default','balance','housing','loan','contact','day','month','duration','campaign','pdays','previous','poutcome','output']\n",
    "\n",
    "#assign the datatypes to the columns\n",
    "train_data.age = train_data.age.astype('int64')\n",
    "train_data.job = train_data.job.astype('category')\n",
    "train_data.marital = train_data.marital.astype('category')\n",
    "train_data.education = train_data.education.astype('category')\n",
    "train_data.default = train_data.default.map({'yes':1,'no':0})\n",
    "train_data.balance = train_data.balance.astype('float64')\n",
    "train_data.housing = train_data.housing.map({'yes': 1, 'no': 0})\n",
    "train_data.loan = train_data.loan.map({'yes': 1, 'no': 0})\n",
    "train_data.contact = train_data.contact.map({'cellular': 0, 'telephone': 1, 'unknown': 2})\n",
    "train_data.day = train_data.day.astype('int64')\n",
    "train_data.month = train_data.month.astype('category')\n",
    "train_data.duration = train_data.duration.astype('int64')\n",
    "train_data.campaign = train_data.campaign.astype('int64')\n",
    "train_data.pdays = train_data.pdays.astype('int64')\n",
    "train_data.previous = train_data.previous.astype('int64')\n",
    "train_data.poutcome = train_data.poutcome.map({'failure': 0, 'success': 1, 'unknown': 2})\n",
    "train_data.output = train_data.output.map({'TypeA': 1, 'TypeB': 0})\n",
    "\n",
    "#assign the same datatypes to the columns of the predict_data\n",
    "predict_data.age = predict_data.age.astype('int64')\n",
    "predict_data.job = predict_data.job.astype('category')\n",
    "predict_data.marital = predict_data.marital.astype('category')\n",
    "predict_data.education = predict_data.education.astype('category')\n",
    "predict_data.default = predict_data.default.map({'yes':1,'no':0})\n",
    "predict_data.balance = predict_data.balance.astype('float64')\n",
    "predict_data.housing = predict_data.housing.map({'yes': 1, 'no': 0})\n",
    "predict_data.loan = predict_data.loan.map({'yes': 1, 'no': 0})\n",
    "predict_data.contact = predict_data.contact.map({'cellular': 0, 'telephone': 1, 'unknown': 2})\n",
    "predict_data.day = predict_data.day.astype('int64')\n",
    "predict_data.month = predict_data.month.astype('category')\n",
    "predict_data.duration = predict_data.duration.astype('int64')\n",
    "predict_data.campaign = predict_data.campaign.astype('int64')\n",
    "predict_data.pdays = predict_data.pdays.astype('int64')\n",
    "predict_data.previous = predict_data.previous.astype('int64')\n",
    "predict_data.poutcome = predict_data.poutcome.map({'failure': 0, 'success': 1, 'unknown': 2})\n",
    "predict_data.output = predict_data.output.map({'TypeA': 1, 'TypeB': 0})\n",
    "\n",
    "#convert the catagorical variables to dummy variables\n",
    "train_data = pd.get_dummies(train_data, columns=['job','marital','education','default','housing','loan','contact','month','poutcome'],drop_first=True)\n",
    "predict_data = pd.get_dummies(predict_data, columns=['job','marital','education','default','housing','loan','contact','month','poutcome'],drop_first=True)\n"
   ]
  },
  {
   "cell_type": "code",
   "execution_count": 48,
   "metadata": {},
   "outputs": [
    {
     "name": "stdout",
     "output_type": "stream",
     "text": [
      "accuracy score:  0.852796052631579\n",
      "Variance score: 0.852796052631579\n",
      "Mean Absolute Error: 0.14720394736842105\n",
      "Mean Squared Error: 0.14720394736842105\n",
      "Root Mean Squared Error: 0.383671666100614\n"
     ]
    },
    {
     "data": {
      "text/plain": [
       "TypeA    2476\n",
       "TypeB     227\n",
       "Name: output, dtype: int64"
      ]
     },
     "execution_count": 48,
     "metadata": {},
     "output_type": "execute_result"
    }
   ],
   "source": [
    "#create a predict function that uses KNN to predict the output column in predict_data\n",
    "#then write the predictions to a txt file using the layout <id>,<output> where <id> is the id and <output> is either TypeA or TypeB\n",
    "def predict_knn(predict_data):\n",
    "    #split the data into training and testing data\n",
    "    X_train, X_test, y_train, y_test = train_test_split(train_data.drop(['id','output'], axis=1), train_data['output'], test_size=0.2, random_state=2)\n",
    "    \n",
    "    #create a KNN model\n",
    "    clf = KNeighborsClassifier(n_neighbors=4, p =2 )\n",
    "    #fit the model to the training data\n",
    "    clf = clf.fit(X_train, y_train)\n",
    "    #predict the output column in predict_data\n",
    "    y_pred = clf.predict(X_test)\n",
    "    #test the accuracy of the model\n",
    "    print(\"accuracy score: \",accuracy_score(y_test, y_pred))\n",
    "\n",
    "    # variance score: 1 means perfect prediction\n",
    "    print('Variance score: {}'.format(clf.score(X_test, y_test)))  \n",
    "\n",
    "    #print out the error rates\n",
    "    print('Mean Absolute Error:', metrics.mean_absolute_error(y_test, y_pred))\n",
    "    print('Mean Squared Error:', metrics.mean_squared_error(y_test, y_pred))\n",
    "    print('Root Mean Squared Error:', np.sqrt(metrics.mean_squared_error(y_test, y_pred)))\n",
    "\n",
    "    #predict the output column in predict_data\n",
    "    predict_data['output'] = clf.predict(predict_data.drop(['id','output'], axis=1))\n",
    "    #round the predict_data['output'] to nearest 1 or 0\n",
    "    predict_data['output'] = predict_data['output'].map({1:'TypeA', 0:'TypeB'})\n",
    "    predict_data.to_csv('testdata.txt', sep=',', header=True, index=False)\n",
    "    #drop all the columns except id and output\n",
    "    output_data = predict_data[['id','output']]\n",
    "    #write the predictions to a txt file\n",
    "    output_data.to_csv('predictions.txt', sep=',', header=False, index=False)\n",
    "    return predict_data, output_data\n",
    "\n",
    "#call the function predict_knn()\n",
    "predict_data, output_data = predict_knn(predict_data)\n",
    "output_data['output'].value_counts()\n",
    "\n"
   ]
  },
  {
   "cell_type": "code",
   "execution_count": 49,
   "metadata": {},
   "outputs": [
    {
     "name": "stdout",
     "output_type": "stream",
     "text": [
      "KNN with k =  1 :  0.8447779605263158\n",
      "KNN with k =  2 :  0.7962582236842105\n",
      "KNN with k =  3 :  0.8813733552631579\n",
      "KNN with k =  4 :  0.8694490131578947\n",
      "KNN with k =  5 :  0.8916529605263158\n",
      "KNN with k =  6 :  0.887952302631579\n",
      "KNN with k =  7 :  0.8943256578947368\n",
      "KNN with k =  8 :  0.8955592105263158\n",
      "KNN with k =  9 :  0.8955592105263158\n",
      "KNN with k =  10 :  0.895764802631579\n",
      "KNN with k =  11 :  0.8965871710526315\n",
      "KNN with k =  12 :  0.8961759868421053\n",
      "KNN with k =  13 :  0.8959703947368421\n",
      "KNN with k =  14 :  0.8955592105263158\n",
      "KNN with k =  15 :  0.8974095394736842\n",
      "KNN with k =  16 :  0.8961759868421053\n",
      "KNN with k =  17 :  0.8965871710526315\n",
      "KNN with k =  18 :  0.8967927631578947\n",
      "KNN with k =  19 :  0.8955592105263158\n"
     ]
    },
    {
     "data": {
      "image/png": "[encoded data removed]",
      "text/plain": [
       "<Figure size 432x288 with 1 Axes>"
      ]
     },
     "metadata": {
      "needs_background": "light"
     },
     "output_type": "display_data"
    }
   ],
   "source": [
    "#create a function to cross validate the model\n",
    "def cross_validate(train_data):\n",
    "    #split the data into training and testing data\n",
    "    X_train, X_test, y_train, y_test = train_test_split(train_data.drop(['id','output'], axis=1), train_data['output'], test_size=0.2, random_state=2)\n",
    "    #create a list of the KNN model with different values of K\n",
    "    K = range(1,20)\n",
    "    #create an empty list to store the scores of the KNN model with different values of K\n",
    "    scores = []\n",
    "    #loop through each value of K\n",
    "    for k in K:\n",
    "        #create a KNN model\n",
    "        clf = KNeighborsClassifier(n_neighbors=k)\n",
    "        #fit the model to the training data\n",
    "        clf = clf.fit(X_train, y_train)\n",
    "        #append the scores of the model to scores\n",
    "        scores.append(clf.score(X_test, y_test))\n",
    "        print(\"KNN with k = \",k,\": \",scores[k-1])\n",
    "    #plot the scores of the KNN model with different values of K\n",
    "    plt.figure()\n",
    "    plt.plot(K, scores, 'bx-')\n",
    "cross_validate(train_data)"
   ]
  },
  {
   "cell_type": "code",
   "execution_count": 50,
   "metadata": {},
   "outputs": [
    {
     "name": "stdout",
     "output_type": "stream",
     "text": [
      "accuracy score:  0.8966165413533834\n",
      "Variance score: 0.18199210785877262\n",
      "Mean Absolute Error: 0.171966554856117\n",
      "Mean Squared Error: 0.08473701104471518\n",
      "Root Mean Squared Error: 0.2910962229997414\n"
     ]
    },
    {
     "data": {
      "text/plain": [
       "TypeA    2625\n",
       "TypeB      78\n",
       "Name: output, dtype: int64"
      ]
     },
     "execution_count": 50,
     "metadata": {},
     "output_type": "execute_result"
    }
   ],
   "source": [
    "\n",
    "#create a function that uses linear regression to predict the output column in predict_data\n",
    "#then write the predictions to a txt file using the layout <id>,<output> where <id> is the id and <output> is either TypeA or TypeB\n",
    "def predict(predict_data):\n",
    "    #split the data into training and testing data\n",
    "    X_train, X_test, y_train, y_test = train_test_split(train_data.drop(['id','output'], axis=1), train_data['output'], test_size=0.35, random_state=4)\n",
    "    #create a linear regression model\n",
    "    regr = linear_model.LinearRegression()\n",
    "    #fit the model to the training data\n",
    "    regr.fit(X_train, y_train)\n",
    "    #predict the output column in predict_data\n",
    "    y_pred = regr.predict(X_test)\n",
    "    #test the accuracy of the model\n",
    "    print(\"accuracy score: \",accuracy_score(y_test, y_pred.round()))\n",
    "\n",
    "    # variance score: 1 means perfect prediction\n",
    "    print('Variance score: {}'.format(regr.score(X_test, y_test)))  \n",
    "\n",
    "    #print out the error rates\n",
    "    print('Mean Absolute Error:', metrics.mean_absolute_error(y_test, y_pred))\n",
    "    print('Mean Squared Error:', metrics.mean_squared_error(y_test, y_pred))\n",
    "    print('Root Mean Squared Error:', np.sqrt(metrics.mean_squared_error(y_test, y_pred)))\n",
    "\n",
    "    #write the predictions to a txt file using the layout <id>,<output> where <id> is the id and <output> is either TypeA or TypeB\n",
    "    #predict the output column in predict_data\n",
    "    predict_data['output'] = regr.predict(predict_data.drop(['id','output'], axis=1)).round()\n",
    "    #round the predict_data['output'] to nearest 1 or 0\n",
    "    predict_data['output'] = predict_data['output'].map({1:'TypeA', 0:'TypeB'})\n",
    "    predict_data.to_csv('testdata.txt', sep=',', header=True, index=False)\n",
    "    #drop all the columns except id and output\n",
    "    output_data = predict_data[['id','output']]\n",
    "    #write the predictions to a txt file\n",
    "    output_data.to_csv('predictions.txt', sep=',', header=False, index=False)\n",
    "\n",
    "    return predict_data, output_data\n",
    "predict_data, output_data = predict(predict_data)\n",
    "output_data['output'].value_counts()"
   ]
  },
  {
   "cell_type": "code",
   "execution_count": 51,
   "metadata": {},
   "outputs": [
    {
     "name": "stdout",
     "output_type": "stream",
     "text": [
      "accuracy score:  0.8350563909774437\n",
      "Variance score: 0.8350563909774437\n",
      "Mean Absolute Error: 0.1649436090225564\n",
      "Mean Squared Error: 0.1649436090225564\n",
      "Root Mean Squared Error: 0.4061325018052069\n"
     ]
    },
    {
     "data": {
      "text/plain": [
       "TypeA    2384\n",
       "TypeB     319\n",
       "Name: output, dtype: int64"
      ]
     },
     "execution_count": 51,
     "metadata": {},
     "output_type": "execute_result"
    }
   ],
   "source": [
    "#create a predict function that uses decision tree to predict the output column in predict_data\n",
    "#then write the predictions to a txt file using the layout <id>,<output> where <id> is the id and <output> is either TypeA or TypeB\n",
    "def predict_tree(predict_data):\n",
    "    #split the data into training and testing data\n",
    "    X_train, X_test, y_train, y_test = train_test_split(train_data.drop(['id','output'], axis=1), train_data['output'], test_size=0.35, random_state=4)\n",
    "    #create a decision tree model\n",
    "    clf = tree.DecisionTreeClassifier()\n",
    "    #fit the model to the training data\n",
    "    clf = clf.fit(X_train, y_train)\n",
    "    #predict the output column in predict_data\n",
    "    y_pred = clf.predict(X_test)\n",
    "    #test the accuracy of the model\n",
    "    print(\"accuracy score: \",accuracy_score(y_test, y_pred))\n",
    "\n",
    "    # variance score: 1 means perfect prediction\n",
    "    print('Variance score: {}'.format(clf.score(X_test, y_test)))  \n",
    "\n",
    "    #print out the error rates\n",
    "    print('Mean Absolute Error:', metrics.mean_absolute_error(y_test, y_pred))\n",
    "    print('Mean Squared Error:', metrics.mean_squared_error(y_test, y_pred))\n",
    "    print('Root Mean Squared Error:', np.sqrt(metrics.mean_squared_error(y_test, y_pred)))\n",
    "\n",
    "    #write the predictions to a txt file using the layout <id>,<output> where <id> is the id and <output> is either TypeA or TypeB\n",
    "    #predict the output column in predict_data\n",
    "    predict_data['output'] = clf.predict(predict_data.drop(['id','output'], axis=1))\n",
    "    #round the predict_data['output'] to nearest 1 or 0\n",
    "    predict_data['output'] = predict_data['output'].map({1:'TypeA', 0:'TypeB'})\n",
    "    predict_data.to_csv('testdata.txt', sep=',', header=True, index=False)\n",
    "    #drop all the columns except id and output\n",
    "    output_data = predict_data[['id','output']]\n",
    "    #write the predictions to a txt file\n",
    "    output_data.to_csv('predictions.txt', sep=',', header=False, index=False)\n",
    "    return predict_data, output_data\n",
    "\n",
    "#call the function predict()\n",
    "predict_data, output_data = predict_tree(predict_data)\n",
    "output_data['output'].value_counts()"
   ]
  },
  {
   "cell_type": "code",
   "execution_count": 57,
   "metadata": {},
   "outputs": [
    {
     "ename": "NameError",
     "evalue": "name 'preprocessing' is not defined",
     "output_type": "error",
     "traceback": [
      "\u001b[0;31m---------------------------------------------------------------------------\u001b[0m",
      "\u001b[0;31mNameError\u001b[0m                                 Traceback (most recent call last)",
      "\u001b[0;32m/var/folders/_3/c9jvmj8d3mq6r20_fxn1y1_r0000gn/T/ipykernel_59544/811870142.py\u001b[0m in \u001b[0;36m<module>\u001b[0;34m\u001b[0m\n\u001b[1;32m     38\u001b[0m \u001b[0;34m\u001b[0m\u001b[0m\n\u001b[1;32m     39\u001b[0m \u001b[0;31m#call the function predict_nb()\u001b[0m\u001b[0;34m\u001b[0m\u001b[0;34m\u001b[0m\u001b[0;34m\u001b[0m\u001b[0m\n\u001b[0;32m---> 40\u001b[0;31m \u001b[0mpredict_data\u001b[0m\u001b[0;34m,\u001b[0m \u001b[0moutput_data\u001b[0m \u001b[0;34m=\u001b[0m \u001b[0mpredict_nb\u001b[0m\u001b[0;34m(\u001b[0m\u001b[0mpredict_data\u001b[0m\u001b[0;34m)\u001b[0m\u001b[0;34m\u001b[0m\u001b[0;34m\u001b[0m\u001b[0m\n\u001b[0m\u001b[1;32m     41\u001b[0m \u001b[0moutput_data\u001b[0m\u001b[0;34m[\u001b[0m\u001b[0;34m'output'\u001b[0m\u001b[0;34m]\u001b[0m\u001b[0;34m.\u001b[0m\u001b[0mvalue_counts\u001b[0m\u001b[0;34m(\u001b[0m\u001b[0;34m)\u001b[0m\u001b[0;34m\u001b[0m\u001b[0;34m\u001b[0m\u001b[0m\n\u001b[1;32m     42\u001b[0m \u001b[0;34m\u001b[0m\u001b[0m\n",
      "\u001b[0;32m/var/folders/_3/c9jvmj8d3mq6r20_fxn1y1_r0000gn/T/ipykernel_59544/811870142.py\u001b[0m in \u001b[0;36mpredict_nb\u001b[0;34m(predict_data)\u001b[0m\n\u001b[1;32m      7\u001b[0m     \u001b[0mclf\u001b[0m \u001b[0;34m=\u001b[0m \u001b[0mGaussianNB\u001b[0m\u001b[0;34m(\u001b[0m\u001b[0;34m)\u001b[0m\u001b[0;34m\u001b[0m\u001b[0;34m\u001b[0m\u001b[0m\n\u001b[1;32m      8\u001b[0m     \u001b[0;31m#normalize the data\u001b[0m\u001b[0;34m\u001b[0m\u001b[0;34m\u001b[0m\u001b[0;34m\u001b[0m\u001b[0m\n\u001b[0;32m----> 9\u001b[0;31m     \u001b[0mX_train\u001b[0m \u001b[0;34m=\u001b[0m \u001b[0mpreprocessing\u001b[0m\u001b[0;34m.\u001b[0m\u001b[0mnormalize\u001b[0m\u001b[0;34m(\u001b[0m\u001b[0mX_train\u001b[0m\u001b[0;34m)\u001b[0m\u001b[0;34m\u001b[0m\u001b[0;34m\u001b[0m\u001b[0m\n\u001b[0m\u001b[1;32m     10\u001b[0m     \u001b[0mX_test\u001b[0m \u001b[0;34m=\u001b[0m \u001b[0mpreprocessing\u001b[0m\u001b[0;34m.\u001b[0m\u001b[0mnormalize\u001b[0m\u001b[0;34m(\u001b[0m\u001b[0mX_test\u001b[0m\u001b[0;34m)\u001b[0m\u001b[0;34m\u001b[0m\u001b[0;34m\u001b[0m\u001b[0m\n\u001b[1;32m     11\u001b[0m \u001b[0;34m\u001b[0m\u001b[0m\n",
      "\u001b[0;31mNameError\u001b[0m: name 'preprocessing' is not defined"
     ]
    }
   ],
   "source": [
    "#create a predict function that uses Naive Bayes to predict the output column in predict_data\n",
    "#then write the predictions to a txt file using the layout <id>,<output> where <id> is the id and <output> is either TypeA or TypeB\n",
    "def predict_nb(predict_data):\n",
    "    #split the data into training and testing data\n",
    "    X_train, X_test, y_train, y_test = train_test_split(train_data.drop(['id','output'], axis=1), train_data['output'], test_size=0.2, random_state=2)\n",
    "    #create a naive bayes model\n",
    "    clf = GaussianNB()\n",
    "\n",
    "    #fit the model to the training data\n",
    "    clf = clf.fit(X_train, y_train)\n",
    "    #predict the output column in predict_data\n",
    "    y_pred = clf.predict(X_test)\n",
    "    #test the accuracy of the model\n",
    "    print(\"accuracy score: \",accuracy_score(y_test, y_pred))\n",
    "\n",
    "    # variance score: 1 means perfect prediction\n",
    "    print('Variance score: {}'.format(clf.score(X_test, y_test)))  \n",
    "\n",
    "    #print out the error rates\n",
    "    print('Mean Absolute Error:', metrics.mean_absolute_error(y_test, y_pred))\n",
    "    print('Mean Squared Error:', metrics.mean_squared_error(y_test, y_pred))\n",
    "    print('Root Mean Squared Error:', np.sqrt(metrics.mean_squared_error(y_test, y_pred)))\n",
    "\n",
    "    #write the predictions to a txt file using the layout <id>,<output> where <id> is the id and <output> is either TypeA or TypeB\n",
    "    #predict the output column in predict_data\n",
    "    predict_data['output'] = clf.predict(predict_data.drop(['id','output'], axis=1))\n",
    "    #round the predict_data['output'] to nearest 1 or 0\n",
    "    predict_data['output'] = predict_data['output'].map({1:'TypeA', 0:'TypeB'})\n",
    "    predict_data.to_csv('testdata.txt', sep=',', header=True, index=False)\n",
    "    #drop all the columns except id and output\n",
    "    output_data = predict_data[['id','output']]\n",
    "    #write the predictions to a txt file\n",
    "    output_data.to_csv('predictions.txt', sep=',', header=False, index=False)\n",
    "    return predict_data, output_data\n",
    "\n",
    "#call the function predict_nb()\n",
    "predict_data, output_data = predict_nb(predict_data)\n",
    "output_data['output'].value_counts()\n",
    "\n"
   ]
  }
 ],
 "metadata": {
  "interpreter": {
   "hash": "f6c3902b1aa4cde15cc03912761b672b2382cc5d8b5cce935e21b7922c23d74a"
  },
  "kernelspec": {
   "display_name": "Python 3.9.7 64-bit ('MachineL': conda)",
   "language": "python",
   "name": "python3"
  },
  "language_info": {
   "codemirror_mode": {
    "name": "ipython",
    "version": 3
   },
   "file_extension": ".py",
   "mimetype": "text/x-python",
   "name": "python",
   "nbconvert_exporter": "python",
   "pygments_lexer": "ipython3",
   "version": "3.9.1"
  },
  "orig_nbformat": 4
 },
 "nbformat": 4,
 "nbformat_minor": 2
}
