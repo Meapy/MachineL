{
 "cells": [
  {
   "cell_type": "code",
   "execution_count": 23,
   "metadata": {},
   "outputs": [],
   "source": [
    "import pandas as pd\n",
    "import numpy as np \n",
    "import matplotlib.pyplot as plt\n",
    "from sklearn.metrics import r2_score\n",
    "from sklearn import tree \n",
    "from sklearn.model_selection import train_test_split\n",
    "from sklearn.metrics import accuracy_score\n",
    "from sklearn.ensemble import RandomForestClassifier\n",
    "from sklearn.naive_bayes import GaussianNB\n",
    "from sklearn import datasets, linear_model, metrics\n",
    "from sklearn.neighbors import KNeighborsClassifier\n",
    "from sklearn.preprocessing import StandardScaler\n",
    "\n",
    "pd.set_option('display.float_format',lambda x: '%.4f' %x)\n",
    "pd.options.mode.chained_assignment = None\n",
    "\n",
    "train_data = pd.read_csv('data/trainingset.txt',header=None)\n",
    "test_data = pd.read_csv('data/queries.txt',header=None)\n",
    "#set column names for train_data\n",
    "train_data.columns = ['id','age','job','marital','education','default','balance','housing','loan','contact','day','month','duration','campaign','pdays','previous','poutcome','output']\n",
    "test_data.columns = ['id','age','job','marital','education','default','balance','housing','loan','contact','day','month','duration','campaign','pdays','previous','poutcome','output']\n",
    "\n",
    "#assign the datatypes to the columns\n",
    "train_data.age = train_data.age.astype('int64')\n",
    "train_data.job = train_data.job.astype('category')\n",
    "train_data.marital = train_data.marital.astype('category')\n",
    "train_data.education = train_data.education.astype('category')\n",
    "train_data.default = train_data.default.map({'yes':1,'no':0})\n",
    "train_data.balance = train_data.balance.astype('float64')\n",
    "train_data.housing = train_data.housing.map({'yes': 1, 'no': 0})\n",
    "train_data.loan = train_data.loan.map({'yes': 1, 'no': 0})\n",
    "train_data.contact = train_data.contact.map({'cellular': 0, 'telephone': 1, 'unknown': 2})\n",
    "train_data.day = train_data.day.astype('int64')\n",
    "train_data.month = train_data.month.astype('category')\n",
    "train_data.duration = train_data.duration.astype('int64')\n",
    "train_data.campaign = train_data.campaign.astype('int64')\n",
    "train_data.pdays = train_data.pdays.astype('int64')\n",
    "train_data.previous = train_data.previous.astype('int64')\n",
    "train_data.poutcome = train_data.poutcome.map({'failure': 0, 'success': 1, 'unknown': 2})\n",
    "train_data.output = train_data.output.map({'TypeA': 1, 'TypeB': 0})\n",
    "\n",
    "#assign the same datatypes to the columns of the test_data\n",
    "test_data.age = test_data.age.astype('int64')\n",
    "test_data.job = test_data.job.astype('category')\n",
    "test_data.marital = test_data.marital.astype('category')\n",
    "test_data.education = test_data.education.astype('category')\n",
    "test_data.default = test_data.default.map({'yes':1,'no':0})\n",
    "test_data.balance = test_data.balance.astype('float64')\n",
    "test_data.housing = test_data.housing.map({'yes': 1, 'no': 0})\n",
    "test_data.loan = test_data.loan.map({'yes': 1, 'no': 0})\n",
    "test_data.contact = test_data.contact.map({'cellular': 0, 'telephone': 1, 'unknown': 2})\n",
    "test_data.day = test_data.day.astype('int64')\n",
    "test_data.month = test_data.month.astype('category')\n",
    "test_data.duration = test_data.duration.astype('int64')\n",
    "test_data.campaign = test_data.campaign.astype('int64')\n",
    "test_data.pdays = test_data.pdays.astype('int64')\n",
    "test_data.previous = test_data.previous.astype('int64')\n",
    "test_data.poutcome = test_data.poutcome.map({'failure': 0, 'success': 1, 'unknown': 2})\n",
    "test_data.output = test_data.output.map({'TypeA': 1, 'TypeB': 0})\n",
    "\n",
    "#convert the catagorical variables to dummy variables\n",
    "train_data = pd.get_dummies(train_data, columns=['job','marital','education','default','housing','loan','contact','month','poutcome'],drop_first=True)\n",
    "test_data = pd.get_dummies(test_data, columns=['job','marital','education','default','housing','loan','contact','month','poutcome'],drop_first=True)\n"
   ]
  },
  {
   "cell_type": "code",
   "execution_count": 37,
   "metadata": {},
   "outputs": [
    {
     "name": "stdout",
     "output_type": "stream",
     "text": [
      "accuracy score:  0.9825246710526315\n",
      "Variance score: 0.9825246710526315\n",
      "Mean Absolute Error: 0.01747532894736842\n",
      "Root Mean Squared Error: 0.13219428485138238\n"
     ]
    },
    {
     "name": "stderr",
     "output_type": "stream",
     "text": [
      "C:\\Users\\dkras\\anaconda3\\envs\\MachineL\\lib\\site-packages\\sklearn\\base.py:438: UserWarning: X has feature names, but KNeighborsClassifier was fitted without feature names\n",
      "  warnings.warn(\n"
     ]
    },
    {
     "data": {
      "text/plain": [
       "TypeA    2503\n",
       "TypeB     200\n",
       "Name: output, dtype: int64"
      ]
     },
     "execution_count": 37,
     "metadata": {},
     "output_type": "execute_result"
    }
   ],
   "source": [
    "#create a predict function that uses KNN to predict the output column in test_data\n",
    "#then write the predictions to a txt file using the layout <id>,<output> where <id> is the id and <output> is either TypeA or TypeB\n",
    "def predict_knn(test_data):\n",
    "    #split the data into training and testing data\n",
    "    X_train, X_test, y_train, y_test = train_test_split(train_data.drop(['id'], axis=1), train_data['output'], test_size=0.2, random_state=2)\n",
    "    sScalar = StandardScaler()\n",
    "    X_train = sScalar.fit_transform(X_train)\n",
    "    X_test = sScalar.transform(X_test)\n",
    "    \n",
    "    #create a KNN model\n",
    "    clf = KNeighborsClassifier(n_neighbors=4, p =2 )\n",
    "    #fit the model to the training data\n",
    "    clf = clf.fit(X_train, y_train)\n",
    "    #predict the output column in test_data\n",
    "    y_pred = clf.predict(X_test)\n",
    "    #test the accuracy of the model\n",
    "    print(\"accuracy score: \",accuracy_score(y_test, y_pred))\n",
    "\n",
    "    # variance score: 1 means perfect prediction\n",
    "    print('Variance score: {}'.format(clf.score(X_test, y_test)))  \n",
    "\n",
    "    #print out the error rates\n",
    "    print('Mean Absolute Error:', metrics.mean_absolute_error(y_test, y_pred))\n",
    "    print('Root Mean Squared Error:', np.sqrt(metrics.mean_squared_error(y_test, y_pred)))\n",
    "    test_data['output'] = 0 \n",
    "    #run the predictions on the test_data\n",
    "    test_data['output'] = clf.predict(test_data.drop(['id'], axis=1))\n",
    "    #round the test_data['output'] to nearest 1 or 0\n",
    "    test_data['output'] = test_data['output'].map({1:'TypeA', 0:'TypeB'})\n",
    "    test_data.to_csv('testdata.txt', sep=',', header=True, index=False)\n",
    "    #drop all the columns except id and output\n",
    "    output_data = test_data[['id','output']]\n",
    "    #write the predictions to a txt file\n",
    "    output_data.to_csv('predictions.txt', sep=',', header=True, index=False)\n",
    "    return test_data, output_data\n",
    "\n",
    "#call the function predict_knn()\n",
    "test_data, output_data = predict_knn(test_data)\n",
    "output_data['output'].value_counts()\n",
    "\n"
   ]
  },
  {
   "cell_type": "code",
   "execution_count": 25,
   "metadata": {},
   "outputs": [
    {
     "name": "stdout",
     "output_type": "stream",
     "text": [
      "KNN with k =  1 :  0.8447779605263158\n",
      "KNN with k =  2 :  0.7962582236842105\n",
      "KNN with k =  3 :  0.8813733552631579\n",
      "KNN with k =  4 :  0.8694490131578947\n",
      "KNN with k =  5 :  0.8916529605263158\n",
      "KNN with k =  6 :  0.887952302631579\n",
      "KNN with k =  7 :  0.8943256578947368\n",
      "KNN with k =  8 :  0.8955592105263158\n",
      "KNN with k =  9 :  0.8955592105263158\n"
     ]
    },
    {
     "data": {
      "image/png": "[encoded data removed]",
      "text/plain": [
       "<Figure size 432x288 with 1 Axes>"
      ]
     },
     "metadata": {
      "needs_background": "light"
     },
     "output_type": "display_data"
    }
   ],
   "source": [
    "#create a function to cross validate the model\n",
    "def cross_validate(train_data):\n",
    "    #split the data into training and testing data\n",
    "    X_train, X_test, y_train, y_test = train_test_split(train_data.drop(['id','output'], axis=1), train_data['output'], test_size=0.2, random_state=2)\n",
    "    sScalar = StandardScaler()\n",
    "    X_train = sScalar.fit_transform(X_train)\n",
    "    X_test = sScalar.transform(X_test)\n",
    "    #create a list of the KNN model with different values of K\n",
    "    K = range(1,10)\n",
    "    #create an empty list to store the scores of the KNN model with different values of K\n",
    "    scores = []\n",
    "    #loop through each value of K\n",
    "    for k in K:\n",
    "        #create a KNN model\n",
    "        clf = KNeighborsClassifier(n_neighbors=k)\n",
    "        #fit the model to the training data\n",
    "        clf = clf.fit(X_train, y_train)\n",
    "        #append the scores of the model to scores\n",
    "        scores.append(clf.score(X_test, y_test))\n",
    "        print(\"KNN with k = \",k,\": \",scores[k-1])\n",
    "    #plot the scores of the KNN model with different values of K\n",
    "    plt.figure()\n",
    "    plt.plot(K, scores, 'bx-')\n",
    "cross_validate(train_data)"
   ]
  },
  {
   "cell_type": "code",
   "execution_count": 33,
   "metadata": {},
   "outputs": [
    {
     "name": "stdout",
     "output_type": "stream",
     "text": [
      "[ 1.00000000e+00 -1.32267426e-15  1.00000000e+00 ... -1.05688955e-15\n",
      "  1.00000000e+00  1.00000000e+00]\n",
      "accuracy score:  1.0\n",
      "Variance score: 1.0\n",
      "Mean Absolute Error: 5.351063887617677e-16\n",
      "Mean Squared Error: 5.426076087615858e-31\n",
      "Root Mean Squared Error: 7.366190390979491e-16\n"
     ]
    },
    {
     "data": {
      "text/plain": [
       "TypeB    2703\n",
       "Name: output, dtype: int64"
      ]
     },
     "execution_count": 33,
     "metadata": {},
     "output_type": "execute_result"
    }
   ],
   "source": [
    "\n",
    "#create a function that uses linear regression to predict the output column in test_data\n",
    "#then write the predictions to a txt file using the layout <id>,<output> where <id> is the id and <output> is either TypeA or TypeB\n",
    "def predict(test_data):\n",
    "    #split the data into training and testing data\n",
    "    X_train, X_test, y_train, y_test = train_test_split(train_data.drop(['id','output'], axis=1), train_data['output'], test_size=0.35, random_state=4)\n",
    "    #create a linear regression model\n",
    "    regr = linear_model.LinearRegression()\n",
    "    #fit the model to the training data\n",
    "    regr.fit(X_train, y_train)\n",
    "    #predict the output column in test_data\n",
    "    y_pred = regr.predict(X_test)\n",
    "    print(y_pred)\n",
    "    #test the accuracy of the model\n",
    "    print(\"accuracy score: \",accuracy_score(y_test, y_pred.round()))\n",
    "\n",
    "    # variance score: 1 means perfect prediction\n",
    "    print('Variance score: {}'.format(regr.score(X_test, y_test)))  \n",
    "\n",
    "    #print out the error rates\n",
    "    print('Mean Absolute Error:', metrics.mean_absolute_error(y_test, y_pred))\n",
    "    print('Mean Squared Error:', metrics.mean_squared_error(y_test, y_pred))\n",
    "    print('Root Mean Squared Error:', np.sqrt(metrics.mean_squared_error(y_test, y_pred)))\n",
    "\n",
    "    #write the predictions to a txt file using the layout <id>,<output> where <id> is the id and <output> is either TypeA or TypeB\n",
    "    test_data['output'] = regr.predict(test_data.drop(['id','output'], axis=1)).round()\n",
    "    #round the test_data['output'] to nearest 1 or 0\n",
    "    test_data['output'] = test_data['output'].map({1:'TypeA', 0:'TypeB'})\n",
    "    test_data.to_csv('testdata.txt', sep=',', header=True, index=False)\n",
    "    #drop all the columns except id and output\n",
    "    output_data = test_data[['id','output']]\n",
    "    #write the predictions to a txt file\n",
    "    output_data.to_csv('predictions.txt', sep=',', header=True, index=False)\n",
    "\n",
    "    return test_data, output_data\n",
    "test_data, output_data = predict(test_data)\n",
    "output_data.describe()"
   ]
  },
  {
   "cell_type": "code",
   "execution_count": 27,
   "metadata": {},
   "outputs": [
    {
     "name": "stdout",
     "output_type": "stream",
     "text": [
      "accuracy score:  0.8325892857142857\n",
      "Variance score: 0.8325892857142857\n",
      "Mean Absolute Error: 0.16741071428571427\n",
      "Mean Squared Error: 0.16741071428571427\n",
      "Root Mean Squared Error: 0.4091585441924857\n"
     ]
    },
    {
     "data": {
      "text/plain": [
       "TypeA    2374\n",
       "TypeB     329\n",
       "Name: output, dtype: int64"
      ]
     },
     "execution_count": 27,
     "metadata": {},
     "output_type": "execute_result"
    }
   ],
   "source": [
    "#create a predict function that uses decision tree to predict the output column in test_data\n",
    "#then write the predictions to a txt file using the layout <id>,<output> where <id> is the id and <output> is either TypeA or TypeB\n",
    "def predict_tree(test_data):\n",
    "    #split the data into training and testing data\n",
    "    X_train, X_test, y_train, y_test = train_test_split(train_data.drop(['id','output'], axis=1), train_data['output'], test_size=0.35, random_state=4)\n",
    "    #create a decision tree model\n",
    "    clf = tree.DecisionTreeClassifier()\n",
    "    #fit the model to the training data\n",
    "    clf = clf.fit(X_train, y_train)\n",
    "    #predict the output column in test_data\n",
    "    y_pred = clf.predict(X_test)\n",
    "    #test the accuracy of the model\n",
    "    print(\"accuracy score: \",accuracy_score(y_test, y_pred))\n",
    "\n",
    "    # variance score: 1 means perfect prediction\n",
    "    print('Variance score: {}'.format(clf.score(X_test, y_test)))  \n",
    "\n",
    "    #print out the error rates\n",
    "    print('Mean Absolute Error:', metrics.mean_absolute_error(y_test, y_pred))\n",
    "    print('Mean Squared Error:', metrics.mean_squared_error(y_test, y_pred))\n",
    "    print('Root Mean Squared Error:', np.sqrt(metrics.mean_squared_error(y_test, y_pred)))\n",
    "\n",
    "    #write the predictions to a txt file using the layout <id>,<output> where <id> is the id and <output> is either TypeA or TypeB\n",
    "    test_data['output'] = clf.predict(test_data.drop(['id','output'], axis=1))\n",
    "    #round the test_data['output'] to nearest 1 or 0\n",
    "    test_data['output'] = test_data['output'].map({1:'TypeA', 0:'TypeB'})\n",
    "    test_data.to_csv('testdata.txt', sep=',', header=True, index=False)\n",
    "    #drop all the columns except id and output\n",
    "    output_data = test_data[['id','output']]\n",
    "    #write the predictions to a txt file\n",
    "    output_data.to_csv('predictions.txt', sep=',', header=True, index=False)\n",
    "    return test_data, output_data\n",
    "\n",
    "#call the function predict()\n",
    "test_data, output_data = predict_tree(test_data)\n",
    "output_data['output'].value_counts()"
   ]
  },
  {
   "cell_type": "code",
   "execution_count": 28,
   "metadata": {},
   "outputs": [
    {
     "name": "stdout",
     "output_type": "stream",
     "text": [
      "accuracy score:  0.8955592105263158\n",
      "Variance score: 0.8955592105263158\n",
      "Mean Absolute Error: 0.10444078947368421\n",
      "Mean Squared Error: 0.10444078947368421\n",
      "Root Mean Squared Error: 0.323173002389872\n"
     ]
    },
    {
     "data": {
      "text/plain": [
       "TypeA    2604\n",
       "TypeB      99\n",
       "Name: output, dtype: int64"
      ]
     },
     "execution_count": 28,
     "metadata": {},
     "output_type": "execute_result"
    }
   ],
   "source": [
    "#create a predict function that uses random forest to predict the output column in test_data\n",
    "#then write the predictions to a txt file using the layout <id>,<output> where <id> is the id and <output> is either TypeA or TypeB\n",
    "def predict_forest(test_data):\n",
    "    #split the data into training and testing data\n",
    "    X_train, X_test, y_train, y_test = train_test_split(train_data.drop(['id','output'], axis=1), train_data['output'], test_size=0.35, random_state=4)\n",
    "    #create a random forest model\n",
    "    clf = RandomForestClassifier(n_estimators=100)\n",
    "    #fit the model to the training data\n",
    "    clf = clf.fit(X_train, y_train)\n",
    "    #predict the output column in test_data\n",
    "    y_pred = clf.predict(X_test)\n",
    "    #test the accuracy of the model\n",
    "    print(\"accuracy score: \",accuracy_score(y_test, y_pred))\n",
    "\n",
    "    # variance score: 1 means perfect prediction\n",
    "    print('Variance score: {}'.format(clf.score(X_test, y_test)))  \n",
    "\n",
    "    #print out the error rates\n",
    "    print('Mean Absolute Error:', metrics.mean_absolute_error(y_test, y_pred))\n",
    "    print('Mean Squared Error:', metrics.mean_squared_error(y_test, y_pred))\n",
    "    print('Root Mean Squared Error:', np.sqrt(metrics.mean_squared_error(y_test, y_pred)))\n",
    "\n",
    "    #write the predictions to a txt file using the layout <id>,<output> where <id> is the id and <output> is either TypeA or TypeB\n",
    "    test_data['output'] = clf.predict(test_data.drop(['id','output'], axis=1))\n",
    "    #round the test_data['output'] to nearest 1 or 0\n",
    "    test_data['output'] = test_data['output'].map({1:'TypeA', 0:'TypeB'})\n",
    "    test_data.to_csv('testdata.txt', sep=',', header=True, index=False)\n",
    "    #drop all the columns except id and output\n",
    "    output_data = test_data[['id','output']]\n",
    "    #write the predictions to a txt file\n",
    "    output_data.to_csv('predictions.txt', sep=',', header=True, index=False)\n",
    "    return test_data, output_data\n",
    "#call the function predict_forest()\n",
    "test_data, output_data = predict_forest(test_data)\n",
    "output_data['output'].value_counts()\n",
    "\n"
   ]
  },
  {
   "cell_type": "code",
   "execution_count": 40,
   "metadata": {},
   "outputs": [
    {
     "name": "stdout",
     "output_type": "stream",
     "text": [
      "accuracy score:  0.8612546992481203\n",
      "Variance score: 0.8612546992481203\n",
      "Mean Absolute Error: 0.13874530075187969\n",
      "Mean Squared Error: 0.13874530075187969\n",
      "Root Mean Squared Error: 0.3724853027327114\n"
     ]
    },
    {
     "data": {
      "text/plain": [
       "TypeA    2385\n",
       "TypeB     318\n",
       "Name: output, dtype: int64"
      ]
     },
     "execution_count": 40,
     "metadata": {},
     "output_type": "execute_result"
    }
   ],
   "source": [
    "#create a predict function that uses Naive Bayes to predict the output column in test_data\n",
    "#then write the predictions to a txt file using the layout <id>,<output> where <id> is the id and <output> is either TypeA or TypeB\n",
    "def predict_nb(test_data):\n",
    "    #split the data into training and testing data\n",
    "    X_train, X_test, y_train, y_test = train_test_split(train_data.drop(['id','output'], axis=1), train_data['output'], test_size=0.35, random_state=4)\n",
    "    #create a naive bayes model\n",
    "    clf = GaussianNB()\n",
    "    #fit the model to the training data\n",
    "    clf = clf.fit(X_train, y_train)\n",
    "    #predict the output column in test_data\n",
    "    y_pred = clf.predict(X_test)\n",
    "    #test the accuracy of the model\n",
    "    print(\"accuracy score: \",accuracy_score(y_test, y_pred))\n",
    "\n",
    "    # variance score: 1 means perfect prediction\n",
    "    print('Variance score: {}'.format(clf.score(X_test, y_test)))  \n",
    "\n",
    "    #print out the error rates\n",
    "    print('Mean Absolute Error:', metrics.mean_absolute_error(y_test, y_pred))\n",
    "    print('Mean Squared Error:', metrics.mean_squared_error(y_test, y_pred))\n",
    "    print('Root Mean Squared Error:', np.sqrt(metrics.mean_squared_error(y_test, y_pred)))\n",
    "\n",
    "    #write the predictions to a txt file using the layout <id>,<output> where <id> is the id and <output> is either TypeA or TypeB\n",
    "    test_data['output'] = 0 \n",
    "    test_data['output'] = clf.predict(test_data.drop(['id','output'], axis=1))\n",
    "    #round the test_data['output'] to nearest 1 or 0\n",
    "    test_data['output'] = test_data['output'].map({1:'TypeA', 0:'TypeB'})\n",
    "    test_data.to_csv('testdata.txt', sep=',', header=True, index=False)\n",
    "    #drop all the columns except id and output\n",
    "    output_data = test_data[['id','output']]\n",
    "    #write the predictions to a txt file\n",
    "    output_data.to_csv('predictions.txt', sep=',', header=True, index=False)\n",
    "    return test_data, output_data\n",
    "\n",
    "#call the function predict_nb()\n",
    "test_data, output_data = predict_nb(test_data)\n",
    "output_data['output'].value_counts()"
   ]
  }
 ],
 "metadata": {
  "interpreter": {
   "hash": "f6c3902b1aa4cde15cc03912761b672b2382cc5d8b5cce935e21b7922c23d74a"
  },
  "kernelspec": {
   "display_name": "Python 3.9.7 64-bit ('MachineL': conda)",
   "language": "python",
   "name": "python3"
  },
  "language_info": {
   "codemirror_mode": {
    "name": "ipython",
    "version": 3
   },
   "file_extension": ".py",
   "mimetype": "text/x-python",
   "name": "python",
   "nbconvert_exporter": "python",
   "pygments_lexer": "ipython3",
   "version": "3.8.12"
  },
  "orig_nbformat": 4
 },
 "nbformat": 4,
 "nbformat_minor": 2
}
