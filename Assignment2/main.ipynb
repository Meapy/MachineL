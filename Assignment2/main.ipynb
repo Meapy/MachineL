{
 "cells": [
  {
   "cell_type": "code",
   "execution_count": 36,
   "metadata": {},
   "outputs": [
    {
     "name": "stdout",
     "output_type": "stream",
     "text": [
      "Coefficients:  [ 3.48917463e-04  3.45018747e-02 -3.69329948e-06  9.63802688e-02\n",
      "  4.63414041e-02  6.95934192e-04 -1.73472348e-17  6.66863657e-03\n",
      " -2.45001953e-04 -1.40582718e-02]\n"
     ]
    },
    {
     "ename": "ValueError",
     "evalue": "Input contains NaN, infinity or a value too large for dtype('float64').",
     "output_type": "error",
     "traceback": [
      "\u001b[0;31m---------------------------------------------------------------------------\u001b[0m",
      "\u001b[0;31mValueError\u001b[0m                                Traceback (most recent call last)",
      "\u001b[0;32m/var/folders/_3/c9jvmj8d3mq6r20_fxn1y1_r0000gn/T/ipykernel_64406/2154989913.py\u001b[0m in \u001b[0;36m<module>\u001b[0;34m\u001b[0m\n\u001b[1;32m    128\u001b[0m \u001b[0;34m\u001b[0m\u001b[0m\n\u001b[1;32m    129\u001b[0m \u001b[0;31m# variance score: 1 means perfect prediction\u001b[0m\u001b[0;34m\u001b[0m\u001b[0;34m\u001b[0m\u001b[0;34m\u001b[0m\u001b[0m\n\u001b[0;32m--> 130\u001b[0;31m \u001b[0mprint\u001b[0m\u001b[0;34m(\u001b[0m\u001b[0;34m'Variance score: {}'\u001b[0m\u001b[0;34m.\u001b[0m\u001b[0mformat\u001b[0m\u001b[0;34m(\u001b[0m\u001b[0mreg\u001b[0m\u001b[0;34m.\u001b[0m\u001b[0mscore\u001b[0m\u001b[0;34m(\u001b[0m\u001b[0mX_test\u001b[0m\u001b[0;34m,\u001b[0m \u001b[0my_test\u001b[0m\u001b[0;34m)\u001b[0m\u001b[0;34m)\u001b[0m\u001b[0;34m)\u001b[0m\u001b[0;34m\u001b[0m\u001b[0;34m\u001b[0m\u001b[0m\n\u001b[0m\u001b[1;32m    131\u001b[0m \u001b[0;34m\u001b[0m\u001b[0m\n\u001b[1;32m    132\u001b[0m \u001b[0;31m## setting plot style\u001b[0m\u001b[0;34m\u001b[0m\u001b[0;34m\u001b[0m\u001b[0;34m\u001b[0m\u001b[0m\n",
      "\u001b[0;32m~/Documents/GitHub/MachineL/venv/lib/python3.9/site-packages/sklearn/base.py\u001b[0m in \u001b[0;36mscore\u001b[0;34m(self, X, y, sample_weight)\u001b[0m\n\u001b[1;32m    699\u001b[0m \u001b[0;34m\u001b[0m\u001b[0m\n\u001b[1;32m    700\u001b[0m         \u001b[0my_pred\u001b[0m \u001b[0;34m=\u001b[0m \u001b[0mself\u001b[0m\u001b[0;34m.\u001b[0m\u001b[0mpredict\u001b[0m\u001b[0;34m(\u001b[0m\u001b[0mX\u001b[0m\u001b[0;34m)\u001b[0m\u001b[0;34m\u001b[0m\u001b[0;34m\u001b[0m\u001b[0m\n\u001b[0;32m--> 701\u001b[0;31m         \u001b[0;32mreturn\u001b[0m \u001b[0mr2_score\u001b[0m\u001b[0;34m(\u001b[0m\u001b[0my\u001b[0m\u001b[0;34m,\u001b[0m \u001b[0my_pred\u001b[0m\u001b[0;34m,\u001b[0m \u001b[0msample_weight\u001b[0m\u001b[0;34m=\u001b[0m\u001b[0msample_weight\u001b[0m\u001b[0;34m)\u001b[0m\u001b[0;34m\u001b[0m\u001b[0;34m\u001b[0m\u001b[0m\n\u001b[0m\u001b[1;32m    702\u001b[0m \u001b[0;34m\u001b[0m\u001b[0m\n\u001b[1;32m    703\u001b[0m     \u001b[0;32mdef\u001b[0m \u001b[0m_more_tags\u001b[0m\u001b[0;34m(\u001b[0m\u001b[0mself\u001b[0m\u001b[0;34m)\u001b[0m\u001b[0;34m:\u001b[0m\u001b[0;34m\u001b[0m\u001b[0;34m\u001b[0m\u001b[0m\n",
      "\u001b[0;32m~/Documents/GitHub/MachineL/venv/lib/python3.9/site-packages/sklearn/metrics/_regression.py\u001b[0m in \u001b[0;36mr2_score\u001b[0;34m(y_true, y_pred, sample_weight, multioutput)\u001b[0m\n\u001b[1;32m    772\u001b[0m     \u001b[0;34m-\u001b[0m\u001b[0;36m3.0\u001b[0m\u001b[0;34m\u001b[0m\u001b[0;34m\u001b[0m\u001b[0m\n\u001b[1;32m    773\u001b[0m     \"\"\"\n\u001b[0;32m--> 774\u001b[0;31m     y_type, y_true, y_pred, multioutput = _check_reg_targets(\n\u001b[0m\u001b[1;32m    775\u001b[0m         \u001b[0my_true\u001b[0m\u001b[0;34m,\u001b[0m \u001b[0my_pred\u001b[0m\u001b[0;34m,\u001b[0m \u001b[0mmultioutput\u001b[0m\u001b[0;34m\u001b[0m\u001b[0;34m\u001b[0m\u001b[0m\n\u001b[1;32m    776\u001b[0m     )\n",
      "\u001b[0;32m~/Documents/GitHub/MachineL/venv/lib/python3.9/site-packages/sklearn/metrics/_regression.py\u001b[0m in \u001b[0;36m_check_reg_targets\u001b[0;34m(y_true, y_pred, multioutput, dtype)\u001b[0m\n\u001b[1;32m     88\u001b[0m     \"\"\"\n\u001b[1;32m     89\u001b[0m     \u001b[0mcheck_consistent_length\u001b[0m\u001b[0;34m(\u001b[0m\u001b[0my_true\u001b[0m\u001b[0;34m,\u001b[0m \u001b[0my_pred\u001b[0m\u001b[0;34m)\u001b[0m\u001b[0;34m\u001b[0m\u001b[0;34m\u001b[0m\u001b[0m\n\u001b[0;32m---> 90\u001b[0;31m     \u001b[0my_true\u001b[0m \u001b[0;34m=\u001b[0m \u001b[0mcheck_array\u001b[0m\u001b[0;34m(\u001b[0m\u001b[0my_true\u001b[0m\u001b[0;34m,\u001b[0m \u001b[0mensure_2d\u001b[0m\u001b[0;34m=\u001b[0m\u001b[0;32mFalse\u001b[0m\u001b[0;34m,\u001b[0m \u001b[0mdtype\u001b[0m\u001b[0;34m=\u001b[0m\u001b[0mdtype\u001b[0m\u001b[0;34m)\u001b[0m\u001b[0;34m\u001b[0m\u001b[0;34m\u001b[0m\u001b[0m\n\u001b[0m\u001b[1;32m     91\u001b[0m     \u001b[0my_pred\u001b[0m \u001b[0;34m=\u001b[0m \u001b[0mcheck_array\u001b[0m\u001b[0;34m(\u001b[0m\u001b[0my_pred\u001b[0m\u001b[0;34m,\u001b[0m \u001b[0mensure_2d\u001b[0m\u001b[0;34m=\u001b[0m\u001b[0;32mFalse\u001b[0m\u001b[0;34m,\u001b[0m \u001b[0mdtype\u001b[0m\u001b[0;34m=\u001b[0m\u001b[0mdtype\u001b[0m\u001b[0;34m)\u001b[0m\u001b[0;34m\u001b[0m\u001b[0;34m\u001b[0m\u001b[0m\n\u001b[1;32m     92\u001b[0m \u001b[0;34m\u001b[0m\u001b[0m\n",
      "\u001b[0;32m~/Documents/GitHub/MachineL/venv/lib/python3.9/site-packages/sklearn/utils/validation.py\u001b[0m in \u001b[0;36mcheck_array\u001b[0;34m(array, accept_sparse, accept_large_sparse, dtype, order, copy, force_all_finite, ensure_2d, allow_nd, ensure_min_samples, ensure_min_features, estimator)\u001b[0m\n\u001b[1;32m    790\u001b[0m \u001b[0;34m\u001b[0m\u001b[0m\n\u001b[1;32m    791\u001b[0m         \u001b[0;32mif\u001b[0m \u001b[0mforce_all_finite\u001b[0m\u001b[0;34m:\u001b[0m\u001b[0;34m\u001b[0m\u001b[0;34m\u001b[0m\u001b[0m\n\u001b[0;32m--> 792\u001b[0;31m             \u001b[0m_assert_all_finite\u001b[0m\u001b[0;34m(\u001b[0m\u001b[0marray\u001b[0m\u001b[0;34m,\u001b[0m \u001b[0mallow_nan\u001b[0m\u001b[0;34m=\u001b[0m\u001b[0mforce_all_finite\u001b[0m \u001b[0;34m==\u001b[0m \u001b[0;34m\"allow-nan\"\u001b[0m\u001b[0;34m)\u001b[0m\u001b[0;34m\u001b[0m\u001b[0;34m\u001b[0m\u001b[0m\n\u001b[0m\u001b[1;32m    793\u001b[0m \u001b[0;34m\u001b[0m\u001b[0m\n\u001b[1;32m    794\u001b[0m     \u001b[0;32mif\u001b[0m \u001b[0mensure_min_samples\u001b[0m \u001b[0;34m>\u001b[0m \u001b[0;36m0\u001b[0m\u001b[0;34m:\u001b[0m\u001b[0;34m\u001b[0m\u001b[0;34m\u001b[0m\u001b[0m\n",
      "\u001b[0;32m~/Documents/GitHub/MachineL/venv/lib/python3.9/site-packages/sklearn/utils/validation.py\u001b[0m in \u001b[0;36m_assert_all_finite\u001b[0;34m(X, allow_nan, msg_dtype)\u001b[0m\n\u001b[1;32m    112\u001b[0m         ):\n\u001b[1;32m    113\u001b[0m             \u001b[0mtype_err\u001b[0m \u001b[0;34m=\u001b[0m \u001b[0;34m\"infinity\"\u001b[0m \u001b[0;32mif\u001b[0m \u001b[0mallow_nan\u001b[0m \u001b[0;32melse\u001b[0m \u001b[0;34m\"NaN, infinity\"\u001b[0m\u001b[0;34m\u001b[0m\u001b[0;34m\u001b[0m\u001b[0m\n\u001b[0;32m--> 114\u001b[0;31m             raise ValueError(\n\u001b[0m\u001b[1;32m    115\u001b[0m                 msg_err.format(\n\u001b[1;32m    116\u001b[0m                     \u001b[0mtype_err\u001b[0m\u001b[0;34m,\u001b[0m \u001b[0mmsg_dtype\u001b[0m \u001b[0;32mif\u001b[0m \u001b[0mmsg_dtype\u001b[0m \u001b[0;32mis\u001b[0m \u001b[0;32mnot\u001b[0m \u001b[0;32mNone\u001b[0m \u001b[0;32melse\u001b[0m \u001b[0mX\u001b[0m\u001b[0;34m.\u001b[0m\u001b[0mdtype\u001b[0m\u001b[0;34m\u001b[0m\u001b[0;34m\u001b[0m\u001b[0m\n",
      "\u001b[0;31mValueError\u001b[0m: Input contains NaN, infinity or a value too large for dtype('float64')."
     ]
    }
   ],
   "source": [
    "import pandas as pd\n",
    "import numpy as np \n",
    "import matplotlib.pyplot as plt\n",
    "from sklearn.preprocessing import StandardScaler\n",
    "from sklearn.linear_model import LogisticRegression\n",
    "from sklearn.pipeline import make_pipeline\n",
    "from sklearn import preprocessing\n",
    "from sklearn.datasets import make_classification\n",
    "from sklearn.model_selection import train_test_split\n",
    "from sklearn.metrics import accuracy_score\n",
    "from sklearn.metrics import confusion_matrix\n",
    "from sklearn import datasets, linear_model, metrics\n",
    "\n",
    "pd.set_option('display.float_format',lambda x: '%.4f' %x)\n",
    "pd.options.mode.chained_assignment = None\n",
    "\n",
    "train_data = pd.read_csv('data/trainingset.txt',header=None, na_values=\"?\")\n",
    "test_data = pd.read_csv('data/queries.txt',header=None, na_values=\"?\")\n",
    "#set column names for train_data\n",
    "train_data.columns = ['id','age','job','marital','education','default','balance','housing','loan','contact','day','month','duration','campaign','pdays','previous','poutcome','output']\n",
    "test_data.columns = ['id','age','job','marital','education','default','balance','housing','loan','contact','day','month','duration','campaign','pdays','previous','poutcome','output']\n",
    "\n",
    "\"\"\"\n",
    "Data Set Information: \n",
    "\n",
    "The classification goal is to predict if the client will subscribe a term deposit after they have been contacted by phone (variable output).\n",
    "\n",
    "Attribute Information:\n",
    "\n",
    "Input variables:\n",
    "1 - id\n",
    "2 - age (numeric)\n",
    "3 - job (categorical with 12 levels: 'JobCat1' to 'JobCat11', and 'unknown')\n",
    "4 - marital (categorical: \"married\",\"divorced\",\"single\"; note: \"divorced\" means divorced or widowed)\n",
    "5 - education (categorical: \"unknown\",\"secondary\",\"primary\",\"tertiary\")\n",
    "6 - default: (bool: \"yes\",\"no\")\n",
    "7 - balance: (numeric) \n",
    "8 - housing: (bool: \"yes\",\"no\")\n",
    "9 - loan:  (bool: \"yes\",\"no\")\n",
    "# related with the last contact of the current campaign:\n",
    "10 - contact: (categorical: \"unknown\",\"telephone\",\"cellular\") \n",
    "11 - day: (numeric)\n",
    "12 - month: (categorical: \"jan\", \"feb\", \"mar\", ..., \"nov\", \"dec\")\n",
    "13 - duration: (numeric)\n",
    "# other attributes:\n",
    "14 - campaign: (numeric, includes last contact)\n",
    "15 - pdays: (numeric, -1 means client was not previously contacted)\n",
    "16 - previous: (numeric)\n",
    "17 - poutcome: (categorical: \"unknown\",\"other\",\"failure\",\"success\")\n",
    "Output variable (desired target):\n",
    "18 - output - has the client subscribed a term deposit? (bool: \"TypeA\",\"TypeB\")\n",
    "\"\"\"\n",
    "#assign the datatypes to the columns\n",
    "train_data.age = train_data.age.astype('int64')\n",
    "train_data.job = train_data.job.astype('category')\n",
    "train_data.marital = train_data.marital.astype('category')\n",
    "train_data.education = train_data.education.astype('category')\n",
    "train_data.default = train_data.default.map({'yes':1,'no':0})\n",
    "train_data.balance = train_data.balance.astype('float64')\n",
    "train_data.housing = train_data.housing.map({'yes': 1, 'no': 0})\n",
    "train_data.loan = train_data.loan.map({'yes': 1, 'no': 0})\n",
    "train_data.contact = train_data.contact.astype('category')\n",
    "train_data.day = train_data.day.astype('int64')\n",
    "train_data.month = train_data.month.astype('category')\n",
    "train_data.duration = train_data.duration.astype('int64')\n",
    "train_data.campaign = train_data.campaign.astype('int64')\n",
    "train_data.pdays = train_data.pdays.astype('int64')\n",
    "train_data.previous = train_data.previous.astype('int64')\n",
    "train_data.poutcome = train_data.poutcome.astype('category')\n",
    "train_data.output = train_data.output.map({'TypeA': 1, 'TypeB': 0})\n",
    "\n",
    "#assign the same datatypes to the columns of the test_data\n",
    "test_data.age = test_data.age.astype('int64')\n",
    "test_data.job = test_data.job.astype('category')\n",
    "test_data.marital = test_data.marital.astype('category')\n",
    "test_data.education = test_data.education.astype('category')\n",
    "test_data.default = test_data.default.map({'yes':1,'no':0})\n",
    "test_data.balance = test_data.balance.astype('float64')\n",
    "test_data.housing = test_data.housing.map({'yes': 1, 'no': 0})\n",
    "test_data.loan = test_data.loan.map({'yes': 1, 'no': 0})\n",
    "test_data.contact = test_data.contact.astype('category')\n",
    "test_data.day = test_data.day.astype('int64')\n",
    "test_data.month = test_data.month.astype('category')\n",
    "test_data.duration = test_data.duration.astype('int64')\n",
    "test_data.campaign = test_data.campaign.astype('int64')\n",
    "test_data.pdays = test_data.pdays.astype('int64')\n",
    "test_data.previous = test_data.previous.astype('int64')\n",
    "test_data.poutcome = test_data.poutcome.astype('category')\n",
    "test_data.output = test_data.output.map({'TypeA': 1, 'TypeB': 0})\n",
    "\n",
    "#map the categorical variables to numerical values\n",
    "train_data.job = train_data.job.cat.codes\n",
    "train_data.marital = train_data.marital.cat.codes\n",
    "train_data.education = train_data.education.cat.codes\n",
    "train_data.contact = train_data.contact.cat.codes\n",
    "train_data.month = train_data.month.cat.codes\n",
    "train_data.poutcome = train_data.poutcome.cat.codes\n",
    "\n",
    "test_data.job = test_data.job.cat.codes\n",
    "test_data.marital = test_data.marital.cat.codes\n",
    "test_data.education = test_data.education.cat.codes\n",
    "test_data.contact = test_data.contact.cat.codes\n",
    "test_data.month = test_data.month.cat.codes\n",
    "test_data.poutcome = test_data.poutcome.cat.codes\n",
    "\n",
    "#create a function that makes a linear regression model for the given data\n",
    "\n",
    "\n",
    "\n",
    "\n"
   ]
  },
  {
   "cell_type": "code",
   "execution_count": null,
   "metadata": {},
   "outputs": [
    {
     "data": {
      "text/plain": [
       "age         0\n",
       "default     0\n",
       "balance     0\n",
       "housing     0\n",
       "loan        0\n",
       "day         0\n",
       "duration    0\n",
       "campaign    0\n",
       "pdays       0\n",
       "previous    0\n",
       "output      0\n",
       "dtype: int64"
      ]
     },
     "execution_count": 35,
     "metadata": {},
     "output_type": "execute_result"
    }
   ],
   "source": [
    "train_data.isna().sum()"
   ]
  }
 ],
 "metadata": {
  "interpreter": {
   "hash": "f6c3902b1aa4cde15cc03912761b672b2382cc5d8b5cce935e21b7922c23d74a"
  },
  "kernelspec": {
   "display_name": "Python 3.9.7 64-bit ('MachineL': conda)",
   "language": "python",
   "name": "python3"
  },
  "language_info": {
   "codemirror_mode": {
    "name": "ipython",
    "version": 3
   },
   "file_extension": ".py",
   "mimetype": "text/x-python",
   "name": "python",
   "nbconvert_exporter": "python",
   "pygments_lexer": "ipython3",
   "version": "3.9.1"
  },
  "orig_nbformat": 4
 },
 "nbformat": 4,
 "nbformat_minor": 2
}
