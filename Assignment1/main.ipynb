{
 "cells": [
  {
   "cell_type": "code",
   "execution_count": 275,
   "metadata": {
    "collapsed": false,
    "pycharm": {
     "name": "#%%\n"
    }
   },
   "outputs": [],
   "source": [
    "import numpy as np\n",
    "import pandas as pd\n",
    "import numpy \n"
   ]
  },
  {
   "cell_type": "code",
   "execution_count": 276,
   "metadata": {},
   "outputs": [],
   "source": [
    "status = pd.read_csv('data/dataset.csv',header=None, na_values=\"?\")"
   ]
  },
  {
   "cell_type": "code",
   "execution_count": 277,
   "metadata": {
    "collapsed": false,
    "pycharm": {
     "name": "#%%\n"
    }
   },
   "outputs": [
    {
     "data": {
      "text/plain": "            id  age          workclass  fnlwgt    education  education-num  \\\n0          tr1   39          State-gov   77516    Bachelors             13   \n1          tr2   50   Self-emp-not-inc   83311    Bachelors             13   \n2          tr3   38            Private  215646      HS-grad              9   \n3          tr4   53            Private  234721         11th              7   \n4          tr5   28            Private  338409    Bachelors             13   \n...        ...  ...                ...     ...          ...            ...   \n30935  tr30936   27            Private  257302   Assoc-acdm             12   \n30936  tr30937   40            Private  154374      HS-grad              9   \n30937  tr30938   58            Private  151910      HS-grad              9   \n30938  tr30939   22            Private  201490      HS-grad              9   \n30939  tr30940   52       Self-emp-inc  287927      HS-grad              9   \n\n            marital-status          occupation    relationship    race  \\\n0            Never-married        Adm-clerical   Not-in-family   White   \n1       Married-civ-spouse     Exec-managerial         Husband   White   \n2                 Divorced   Handlers-cleaners   Not-in-family   White   \n3       Married-civ-spouse   Handlers-cleaners         Husband   Black   \n4       Married-civ-spouse      Prof-specialty            Wife   Black   \n...                    ...                 ...             ...     ...   \n30935   Married-civ-spouse        Tech-support            Wife   White   \n30936   Married-civ-spouse   Machine-op-inspct         Husband   White   \n30937              Widowed        Adm-clerical       Unmarried   White   \n30938        Never-married        Adm-clerical       Own-child   White   \n30939   Married-civ-spouse     Exec-managerial            Wife   White   \n\n           sex  capital-gain  capital-loss  hours-per-week  native-country  \\\n0         Male          2174             0              40   United-States   \n1         Male             0             0              13   United-States   \n2         Male             0             0              40   United-States   \n3         Male             0             0              40   United-States   \n4       Female             0             0              40            Cuba   \n...        ...           ...           ...             ...             ...   \n30935   Female             0             0              38   United-States   \n30936     Male             0             0              40   United-States   \n30937   Female             0             0              40   United-States   \n30938     Male             0             0              20   United-States   \n30939   Female         15024             0              40   United-States   \n\n       target  \n0       <=50K  \n1       <=50K  \n2       <=50K  \n3       <=50K  \n4       <=50K  \n...       ...  \n30935   <=50K  \n30936    >50K  \n30937   <=50K  \n30938   <=50K  \n30939    >50K  \n\n[30940 rows x 16 columns]",
      "text/html": "<div>\n<style scoped>\n    .dataframe tbody tr th:only-of-type {\n        vertical-align: middle;\n    }\n\n    .dataframe tbody tr th {\n        vertical-align: top;\n    }\n\n    .dataframe thead th {\n        text-align: right;\n    }\n</style>\n<table border=\"1\" class=\"dataframe\">\n  <thead>\n    <tr style=\"text-align: right;\">\n      <th></th>\n      <th>id</th>\n      <th>age</th>\n      <th>workclass</th>\n      <th>fnlwgt</th>\n      <th>education</th>\n      <th>education-num</th>\n      <th>marital-status</th>\n      <th>occupation</th>\n      <th>relationship</th>\n      <th>race</th>\n      <th>sex</th>\n      <th>capital-gain</th>\n      <th>capital-loss</th>\n      <th>hours-per-week</th>\n      <th>native-country</th>\n      <th>target</th>\n    </tr>\n  </thead>\n  <tbody>\n    <tr>\n      <th>0</th>\n      <td>tr1</td>\n      <td>39</td>\n      <td>State-gov</td>\n      <td>77516</td>\n      <td>Bachelors</td>\n      <td>13</td>\n      <td>Never-married</td>\n      <td>Adm-clerical</td>\n      <td>Not-in-family</td>\n      <td>White</td>\n      <td>Male</td>\n      <td>2174</td>\n      <td>0</td>\n      <td>40</td>\n      <td>United-States</td>\n      <td>&lt;=50K</td>\n    </tr>\n    <tr>\n      <th>1</th>\n      <td>tr2</td>\n      <td>50</td>\n      <td>Self-emp-not-inc</td>\n      <td>83311</td>\n      <td>Bachelors</td>\n      <td>13</td>\n      <td>Married-civ-spouse</td>\n      <td>Exec-managerial</td>\n      <td>Husband</td>\n      <td>White</td>\n      <td>Male</td>\n      <td>0</td>\n      <td>0</td>\n      <td>13</td>\n      <td>United-States</td>\n      <td>&lt;=50K</td>\n    </tr>\n    <tr>\n      <th>2</th>\n      <td>tr3</td>\n      <td>38</td>\n      <td>Private</td>\n      <td>215646</td>\n      <td>HS-grad</td>\n      <td>9</td>\n      <td>Divorced</td>\n      <td>Handlers-cleaners</td>\n      <td>Not-in-family</td>\n      <td>White</td>\n      <td>Male</td>\n      <td>0</td>\n      <td>0</td>\n      <td>40</td>\n      <td>United-States</td>\n      <td>&lt;=50K</td>\n    </tr>\n    <tr>\n      <th>3</th>\n      <td>tr4</td>\n      <td>53</td>\n      <td>Private</td>\n      <td>234721</td>\n      <td>11th</td>\n      <td>7</td>\n      <td>Married-civ-spouse</td>\n      <td>Handlers-cleaners</td>\n      <td>Husband</td>\n      <td>Black</td>\n      <td>Male</td>\n      <td>0</td>\n      <td>0</td>\n      <td>40</td>\n      <td>United-States</td>\n      <td>&lt;=50K</td>\n    </tr>\n    <tr>\n      <th>4</th>\n      <td>tr5</td>\n      <td>28</td>\n      <td>Private</td>\n      <td>338409</td>\n      <td>Bachelors</td>\n      <td>13</td>\n      <td>Married-civ-spouse</td>\n      <td>Prof-specialty</td>\n      <td>Wife</td>\n      <td>Black</td>\n      <td>Female</td>\n      <td>0</td>\n      <td>0</td>\n      <td>40</td>\n      <td>Cuba</td>\n      <td>&lt;=50K</td>\n    </tr>\n    <tr>\n      <th>...</th>\n      <td>...</td>\n      <td>...</td>\n      <td>...</td>\n      <td>...</td>\n      <td>...</td>\n      <td>...</td>\n      <td>...</td>\n      <td>...</td>\n      <td>...</td>\n      <td>...</td>\n      <td>...</td>\n      <td>...</td>\n      <td>...</td>\n      <td>...</td>\n      <td>...</td>\n      <td>...</td>\n    </tr>\n    <tr>\n      <th>30935</th>\n      <td>tr30936</td>\n      <td>27</td>\n      <td>Private</td>\n      <td>257302</td>\n      <td>Assoc-acdm</td>\n      <td>12</td>\n      <td>Married-civ-spouse</td>\n      <td>Tech-support</td>\n      <td>Wife</td>\n      <td>White</td>\n      <td>Female</td>\n      <td>0</td>\n      <td>0</td>\n      <td>38</td>\n      <td>United-States</td>\n      <td>&lt;=50K</td>\n    </tr>\n    <tr>\n      <th>30936</th>\n      <td>tr30937</td>\n      <td>40</td>\n      <td>Private</td>\n      <td>154374</td>\n      <td>HS-grad</td>\n      <td>9</td>\n      <td>Married-civ-spouse</td>\n      <td>Machine-op-inspct</td>\n      <td>Husband</td>\n      <td>White</td>\n      <td>Male</td>\n      <td>0</td>\n      <td>0</td>\n      <td>40</td>\n      <td>United-States</td>\n      <td>&gt;50K</td>\n    </tr>\n    <tr>\n      <th>30937</th>\n      <td>tr30938</td>\n      <td>58</td>\n      <td>Private</td>\n      <td>151910</td>\n      <td>HS-grad</td>\n      <td>9</td>\n      <td>Widowed</td>\n      <td>Adm-clerical</td>\n      <td>Unmarried</td>\n      <td>White</td>\n      <td>Female</td>\n      <td>0</td>\n      <td>0</td>\n      <td>40</td>\n      <td>United-States</td>\n      <td>&lt;=50K</td>\n    </tr>\n    <tr>\n      <th>30938</th>\n      <td>tr30939</td>\n      <td>22</td>\n      <td>Private</td>\n      <td>201490</td>\n      <td>HS-grad</td>\n      <td>9</td>\n      <td>Never-married</td>\n      <td>Adm-clerical</td>\n      <td>Own-child</td>\n      <td>White</td>\n      <td>Male</td>\n      <td>0</td>\n      <td>0</td>\n      <td>20</td>\n      <td>United-States</td>\n      <td>&lt;=50K</td>\n    </tr>\n    <tr>\n      <th>30939</th>\n      <td>tr30940</td>\n      <td>52</td>\n      <td>Self-emp-inc</td>\n      <td>287927</td>\n      <td>HS-grad</td>\n      <td>9</td>\n      <td>Married-civ-spouse</td>\n      <td>Exec-managerial</td>\n      <td>Wife</td>\n      <td>White</td>\n      <td>Female</td>\n      <td>15024</td>\n      <td>0</td>\n      <td>40</td>\n      <td>United-States</td>\n      <td>&gt;50K</td>\n    </tr>\n  </tbody>\n</table>\n<p>30940 rows × 16 columns</p>\n</div>"
     },
     "execution_count": 277,
     "metadata": {},
     "output_type": "execute_result"
    }
   ],
   "source": [
    "f = open('data/feature_names.txt','r')\n",
    "data = []\n",
    "for line in f:\n",
    "    data.append(line.strip())\n",
    "status.columns = data\n",
    "status"
   ]
  },
  {
   "cell_type": "code",
   "execution_count": 278,
   "metadata": {},
   "outputs": [
    {
     "data": {
      "text/plain": "             age       fnlwgt  education-num  capital-gain  capital-loss  \\\ncount 30940.0000   30940.0000     30940.0000    30940.0000    30940.0000   \nmean     38.5608  189786.4014        10.0813     1081.8130       86.5700   \nstd      13.6394  105406.3944         2.5700     7443.7730      401.7060   \nmin      17.0000   12285.0000         1.0000        0.0000        0.0000   \n25%      28.0000  117849.0000         9.0000        0.0000        0.0000   \n50%      37.0000  178384.0000        10.0000        0.0000        0.0000   \n75%      48.0000  237318.0000        12.0000        0.0000        0.0000   \nmax      90.0000 1484705.0000        16.0000    99999.0000     4356.0000   \n\n       hours-per-week  \ncount      30940.0000  \nmean          40.4089  \nstd           12.3369  \nmin            1.0000  \n25%           40.0000  \n50%           40.0000  \n75%           45.0000  \nmax           99.0000  ",
      "text/html": "<div>\n<style scoped>\n    .dataframe tbody tr th:only-of-type {\n        vertical-align: middle;\n    }\n\n    .dataframe tbody tr th {\n        vertical-align: top;\n    }\n\n    .dataframe thead th {\n        text-align: right;\n    }\n</style>\n<table border=\"1\" class=\"dataframe\">\n  <thead>\n    <tr style=\"text-align: right;\">\n      <th></th>\n      <th>age</th>\n      <th>fnlwgt</th>\n      <th>education-num</th>\n      <th>capital-gain</th>\n      <th>capital-loss</th>\n      <th>hours-per-week</th>\n    </tr>\n  </thead>\n  <tbody>\n    <tr>\n      <th>count</th>\n      <td>30940.0000</td>\n      <td>30940.0000</td>\n      <td>30940.0000</td>\n      <td>30940.0000</td>\n      <td>30940.0000</td>\n      <td>30940.0000</td>\n    </tr>\n    <tr>\n      <th>mean</th>\n      <td>38.5608</td>\n      <td>189786.4014</td>\n      <td>10.0813</td>\n      <td>1081.8130</td>\n      <td>86.5700</td>\n      <td>40.4089</td>\n    </tr>\n    <tr>\n      <th>std</th>\n      <td>13.6394</td>\n      <td>105406.3944</td>\n      <td>2.5700</td>\n      <td>7443.7730</td>\n      <td>401.7060</td>\n      <td>12.3369</td>\n    </tr>\n    <tr>\n      <th>min</th>\n      <td>17.0000</td>\n      <td>12285.0000</td>\n      <td>1.0000</td>\n      <td>0.0000</td>\n      <td>0.0000</td>\n      <td>1.0000</td>\n    </tr>\n    <tr>\n      <th>25%</th>\n      <td>28.0000</td>\n      <td>117849.0000</td>\n      <td>9.0000</td>\n      <td>0.0000</td>\n      <td>0.0000</td>\n      <td>40.0000</td>\n    </tr>\n    <tr>\n      <th>50%</th>\n      <td>37.0000</td>\n      <td>178384.0000</td>\n      <td>10.0000</td>\n      <td>0.0000</td>\n      <td>0.0000</td>\n      <td>40.0000</td>\n    </tr>\n    <tr>\n      <th>75%</th>\n      <td>48.0000</td>\n      <td>237318.0000</td>\n      <td>12.0000</td>\n      <td>0.0000</td>\n      <td>0.0000</td>\n      <td>45.0000</td>\n    </tr>\n    <tr>\n      <th>max</th>\n      <td>90.0000</td>\n      <td>1484705.0000</td>\n      <td>16.0000</td>\n      <td>99999.0000</td>\n      <td>4356.0000</td>\n      <td>99.0000</td>\n    </tr>\n  </tbody>\n</table>\n</div>"
     },
     "execution_count": 278,
     "metadata": {},
     "output_type": "execute_result"
    }
   ],
   "source": [
    "status.describe() # describe the value with missing values still in data"
   ]
  },
  {
   "cell_type": "code",
   "execution_count": 279,
   "metadata": {},
   "outputs": [
    {
     "data": {
      "text/plain": "id                   0\nage                  0\nworkclass         1735\nfnlwgt               0\neducation            0\neducation-num        0\nmarital-status       0\noccupation        1742\nrelationship         0\nrace                 0\nsex                  0\ncapital-gain         0\ncapital-loss         0\nhours-per-week       0\nnative-country     554\ntarget               0\ndtype: int64"
     },
     "execution_count": 279,
     "metadata": {},
     "output_type": "execute_result"
    }
   ],
   "source": [
    "status.isna().sum()"
   ]
  },
  {
   "cell_type": "code",
   "execution_count": 280,
   "metadata": {},
   "outputs": [
    {
     "data": {
      "text/plain": "             age       fnlwgt  education-num  capital-gain  capital-loss  \\\ncount 30940.0000   30940.0000     30940.0000    30940.0000    30940.0000   \nmean     38.5608  189786.4014        10.0813     1081.8130       86.5700   \nstd      13.6394  105406.3944         2.5700     7443.7730      401.7060   \nmin      17.0000   12285.0000         1.0000        0.0000        0.0000   \n25%      28.0000  117849.0000         9.0000        0.0000        0.0000   \n50%      37.0000  178384.0000        10.0000        0.0000        0.0000   \n75%      48.0000  237318.0000        12.0000        0.0000        0.0000   \nmax      90.0000 1484705.0000        16.0000    99999.0000     4356.0000   \n\n       hours-per-week  \ncount      30940.0000  \nmean          40.4089  \nstd           12.3369  \nmin            1.0000  \n25%           40.0000  \n50%           40.0000  \n75%           45.0000  \nmax           99.0000  ",
      "text/html": "<div>\n<style scoped>\n    .dataframe tbody tr th:only-of-type {\n        vertical-align: middle;\n    }\n\n    .dataframe tbody tr th {\n        vertical-align: top;\n    }\n\n    .dataframe thead th {\n        text-align: right;\n    }\n</style>\n<table border=\"1\" class=\"dataframe\">\n  <thead>\n    <tr style=\"text-align: right;\">\n      <th></th>\n      <th>age</th>\n      <th>fnlwgt</th>\n      <th>education-num</th>\n      <th>capital-gain</th>\n      <th>capital-loss</th>\n      <th>hours-per-week</th>\n    </tr>\n  </thead>\n  <tbody>\n    <tr>\n      <th>count</th>\n      <td>30940.0000</td>\n      <td>30940.0000</td>\n      <td>30940.0000</td>\n      <td>30940.0000</td>\n      <td>30940.0000</td>\n      <td>30940.0000</td>\n    </tr>\n    <tr>\n      <th>mean</th>\n      <td>38.5608</td>\n      <td>189786.4014</td>\n      <td>10.0813</td>\n      <td>1081.8130</td>\n      <td>86.5700</td>\n      <td>40.4089</td>\n    </tr>\n    <tr>\n      <th>std</th>\n      <td>13.6394</td>\n      <td>105406.3944</td>\n      <td>2.5700</td>\n      <td>7443.7730</td>\n      <td>401.7060</td>\n      <td>12.3369</td>\n    </tr>\n    <tr>\n      <th>min</th>\n      <td>17.0000</td>\n      <td>12285.0000</td>\n      <td>1.0000</td>\n      <td>0.0000</td>\n      <td>0.0000</td>\n      <td>1.0000</td>\n    </tr>\n    <tr>\n      <th>25%</th>\n      <td>28.0000</td>\n      <td>117849.0000</td>\n      <td>9.0000</td>\n      <td>0.0000</td>\n      <td>0.0000</td>\n      <td>40.0000</td>\n    </tr>\n    <tr>\n      <th>50%</th>\n      <td>37.0000</td>\n      <td>178384.0000</td>\n      <td>10.0000</td>\n      <td>0.0000</td>\n      <td>0.0000</td>\n      <td>40.0000</td>\n    </tr>\n    <tr>\n      <th>75%</th>\n      <td>48.0000</td>\n      <td>237318.0000</td>\n      <td>12.0000</td>\n      <td>0.0000</td>\n      <td>0.0000</td>\n      <td>45.0000</td>\n    </tr>\n    <tr>\n      <th>max</th>\n      <td>90.0000</td>\n      <td>1484705.0000</td>\n      <td>16.0000</td>\n      <td>99999.0000</td>\n      <td>4356.0000</td>\n      <td>99.0000</td>\n    </tr>\n  </tbody>\n</table>\n</div>"
     },
     "execution_count": 280,
     "metadata": {},
     "output_type": "execute_result"
    }
   ],
   "source": [
    "pd.set_option('display.float_format',lambda x: '%.4f' %x)\n",
    "pd.options.mode.chained_assignment = None\n",
    "status.describe()"
   ]
  },
  {
   "cell_type": "code",
   "execution_count": 281,
   "metadata": {},
   "outputs": [
    {
     "data": {
      "text/plain": "0    123011\n1    203488\ndtype: int64"
     },
     "execution_count": 281,
     "metadata": {},
     "output_type": "execute_result"
    }
   ],
   "source": [
    "status['capital-gain'].unique()\n",
    "status['fnlwgt'].mode()\n"
   ]
  },
  {
   "cell_type": "code",
   "execution_count": 282,
   "metadata": {},
   "outputs": [
    {
     "data": {
      "text/plain": "['age',\n 'fnlwgt',\n 'education-num',\n 'capital-gain',\n 'capital-loss',\n 'hours-per-week']"
     },
     "execution_count": 282,
     "metadata": {},
     "output_type": "execute_result"
    }
   ],
   "source": [
    "contFeatures = list(status.select_dtypes(include='int64').columns)\n",
    "catFeatures = list(status.select_dtypes(include='object').columns)\n",
    "catFeatures.remove('id')\n",
    "\n",
    "contHeadings = ('Feature','Count','% Miss','Card.', 'Min', '1st Qrt.', 'Mean', 'Median', '3rd Qrt', 'Max', 'Std. Dev.')\n",
    "catHeadings = ('Feature','Count','% Miss','Card.','Mode','Mode Freq.','Mode %', '2nd Mode', '2nd Mode freq', '2nd Mode %')\n",
    "contFeatures"
   ]
  },
  {
   "cell_type": "code",
   "execution_count": 283,
   "outputs": [],
   "source": [
    "cont = pd.DataFrame(0, index=np.arange(len(contFeatures)), columns=contHeadings) #create empty datafram\n",
    "cont['Feature'] = contFeatures\n",
    "cont.set_index('Feature', inplace=True)\n",
    "\n",
    "cont[['Mean','Std. Dev.']] = cont[['Mean','Std. Dev.']].astype('float64')"
   ],
   "metadata": {
    "collapsed": false,
    "pycharm": {
     "name": "#%% setting up the continus feature table\n"
    }
   }
  },
  {
   "cell_type": "code",
   "execution_count": 284,
   "outputs": [],
   "source": [
    "i = 0\n",
    "\n",
    "for x in contFeatures:\n",
    "    cont['Count'][i] = status[x].count() # set count\n",
    "    cont['% Miss'][i] = status[x].isnull().sum() * 100 / status[x].count()\n",
    "    cont['Min'][i] = status[x].min()\n",
    "    cont['1st Qrt.'][i] = status[x].quantile(0.25)\n",
    "    cont['Mean'][i] = status[x].mean()\n",
    "    cont['Median'][i] = status[x].median()\n",
    "    cont['3rd Qrt'][i] = status[x].quantile(0.75)\n",
    "    cont['Max'][i] = status[x].max()\n",
    "    cont['Std. Dev.'][i] = status[x].std()\n",
    "    i+=1\n",
    "\n",
    "cont\n",
    "cont.to_csv('data/C18357323CONT.csv')"
   ],
   "metadata": {
    "collapsed": false,
    "pycharm": {
     "name": "#%%\n"
    }
   }
  },
  {
   "cell_type": "code",
   "execution_count": 285,
   "outputs": [],
   "source": [
    "cat = pd.DataFrame('0', index=np.arange(len(catFeatures)), columns=catHeadings) #create empty datafram\n",
    "cat['Feature'] = catFeatures\n",
    "cat.set_index('Feature', inplace=True)"
   ],
   "metadata": {
    "collapsed": false,
    "pycharm": {
     "name": "#%% catigorcal table now\n"
    }
   }
  },
  {
   "cell_type": "code",
   "execution_count": 286,
   "outputs": [],
   "source": [
    "i = 0\n",
    "\n",
    "for x in catFeatures:\n",
    "    cat['Count'][i] = status[x].count() # set count\n",
    "    cat['% Miss'][i] = status[x].isnull().sum() * 100 / status[x].count()\n",
    "    cat['Mode'][i] = status[x].mode()[0]\n",
    "    cat['Mode Freq.'][i] = status[x].value_counts()[0]\n",
    "    cat['Mode %'][i] = status[x].value_counts()[0] * 100 / status[x].count()\n",
    "    cat['2nd Mode'][i] = status[x].value_counts().index.tolist()[1]\n",
    "    cat['2nd Mode freq'][i] = status[x].value_counts()[1]\n",
    "    cat['2nd Mode %'][i] = status[x].value_counts()[1] * 100 / status[x].count()\n",
    "    i+=1\n",
    "\n",
    "cat\n",
    "cat.to_csv('data/C18357323CAT.csv')\n",
    "#test = status['education'].value_counts().index.tolist()[1]\n",
    "#test"
   ],
   "metadata": {
    "collapsed": false,
    "pycharm": {
     "name": "#%%\n"
    }
   }
  }
 ],
 "metadata": {
  "interpreter": {
   "hash": "64e3482f7d37f0cb04d0b74e772a8283690c8e931be8768ee2a0731c9f6f6078"
  },
  "kernelspec": {
   "name": "python391jvsc74a57bd033abafd2dcfb6545eaa81c4f166385f8ee738cd240675732d79707a20d6addff",
   "language": "python",
   "display_name": "Python 3.9.1 64-bit ('venv': venv)"
  },
  "language_info": {
   "codemirror_mode": {
    "name": "ipython",
    "version": 3
   },
   "file_extension": ".py",
   "mimetype": "text/x-python",
   "name": "python",
   "nbconvert_exporter": "python",
   "pygments_lexer": "ipython3",
   "version": "3.9.1"
  }
 },
 "nbformat": 4,
 "nbformat_minor": 0
}